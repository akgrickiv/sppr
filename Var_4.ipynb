{
 "cells": [
  {
   "cell_type": "code",
   "execution_count": 1,
   "id": "4fe9feca",
   "metadata": {},
   "outputs": [
    {
     "name": "stdout",
     "output_type": "stream",
     "text": [
      "Ответ выигрыш игрока A в ситуации H(P,Q) = 6.6667000000000005\n",
      "Ответ выигрыш игрока A в ситуации H(Q,A1) = 9.9\n",
      "Ответ выигрыш игрока A в ситуации H(Q,A2) = 2.11\n",
      "Ответ выигрыш игрока A в ситуации H(Q,A3) = 10.22\n",
      "Ответ выигрыш игрока A в ситуации H(Q,A4) = 3.1\n",
      "Ответ выигрыш игрока A в ситуации H(Q,A5) = 9.89\n",
      "Ответ выигрыш игрока B в ситуации H(P,Q) = 6.6667000000000005\n",
      "Ответ выигрыш игрока B в ситуации H(Q,A1) = 9.9\n",
      "Ответ выигрыш игрока B в ситуации H(Q,A2) = 2.11\n",
      "Ответ выигрыш игрока B в ситуации H(Q,A3) = 10.22\n",
      "Ответ выигрыш игрока B в ситуации H(Q,A4) = 3.1\n",
      "Ответ выигрыш игрока B в ситуации H(Q,A5) = 9.89\n",
      "Ответ выигрыш игрока B в ситуации H(P,B1) = 6.640000000000001\n",
      "Ответ выигрыш игрока B в ситуации H(P,B2) = 5.0200000000000005\n",
      "Ответ выигрыш игрока B в ситуации H(P,B3) = 6.67\n",
      "Ответ выигрыш игрока B в ситуации H(P,B4) = 3.3000000000000003\n",
      "Ответ выигрыш игрока B в ситуации H(P,B5) = 0.0\n"
     ]
    }
   ],
   "source": [
    "import numpy as np\n",
    "matrix = np.array( [[1, 12, 11, 4, 12],\n",
    "                    [3, 1, 2, 7, 0],\n",
    "                    [12, 6, 10, 7, 10],\n",
    "                    [12, 10, 2, 0, 6],\n",
    "                    [9, 0, 10, 0, 3]]\n",
    "                 )\n",
    "q= [0.0, 0.33, 0.0, 0.67, 0.0]\n",
    "p= [0.11, 0.0, 0.89, 0.0, 0.0]\n",
    "answer = {}\n",
    "\n",
    "lower_price = max([min(x) for x in matrix])\n",
    "upper_price = min([max(x) for x in np.rot90(matrix)])\n",
    "\n",
    "if lower_price==upper_price:\n",
    "    print(\"седловая точка есть\", \"ответ v={}\".format(lower_price))\n",
    "else:\n",
    "    buff=0\n",
    "    \n",
    "    for i,pin in zip(matrix,p):\n",
    "        buff+=pin*sum([x*y for x,y in zip(i,q)])\n",
    "    answer[\"H(P,Q)\"]=buff\n",
    "    \n",
    "    for k, i  in enumerate((matrix),1):\n",
    "        answer[\"H(Q,A{})\".format(k)]=sum([x*y for x,y in zip(i,p)])\n",
    "\n",
    "\n",
    "for i in [(x,y) for x,y in answer.items()]:\n",
    "    print(\"Ответ выигрыш игрока A в ситуации {0[0]} = {0[1]}\".format(i))\n",
    "    for k, i  in enumerate((matrix),1):\n",
    "        answer[\"H(P,B{})\".format(k)]=sum([x*y for x,y in zip(i,q)])\n",
    "\n",
    "for i in [(x,y) for x,y in answer.items()]:\n",
    "  print(\"Ответ выигрыш игрока B в ситуации {0[0]} = {0[1]}\".format(i))"
   ]
  },
  {
   "cell_type": "code",
   "execution_count": 2,
   "id": "e282e0e2",
   "metadata": {
    "scrolled": true
   },
   "outputs": [],
   "source": [
    "from cvxopt.modeling import variable, op\n",
    "import time\n",
    "start = time.time()\n",
    "x = variable(25, 'x')\n",
    "\n",
    "c= [2, 5, 5, 6, 7, 4, 3, 4, 4, 3, 5, 2, 3, 6, 2, 3, 6, 5, 7, 8, 1, 9, 7, 6, 4]\n",
    "\n",
    "z = sum( [ c[i]*x[i] for i in range(25) ] )\n",
    "\n",
    "mass1 = (x[0] + x[1] + x[2] + x[3] + x[4] <= 10)\n",
    "mass2 = (x[5] + x[6] + x[7] + x[8] + x[9] <= 30)\n",
    "mass3 = (x[10] + x[11] + x[12] + x[13] + x[14] <= 60)\n",
    "mass4 = (x[15] + x[16] + x[17] + x[18] + x[19] <= 10)\n",
    "mass5 = (x[20] + x[21] + x[22] + x[23] + x[24] <= 60)\n",
    "\n",
    "mass6 = (x[0] + x[5] + x[10] + x[15] + x[20] == 10)\n",
    "mass7 = (x[1] + x[6] + x[11] + x[16] + x[21] == 30)\n",
    "mass8 = (x[2] + x[7] + x[12] + x[17] + x[22] == 30)\n",
    "mass9 = (x[3] + x[8] + x[13] + x[18] + x[23] == 30)\n",
    "mass10 = (x[4] + x[9] + x[14] + x[19] + x[24] == 40)\n",
    "x_non_negative = (x >= 0)    \n",
    "\n",
    "problem = op(z, [mass1, mass2, mass3, mass4, mass5, mass6, mass7, mass8, mass9, mass10, x_non_negative] )\n",
    "problem.solve(solver='glpk')"
   ]
  },
  {
   "cell_type": "code",
   "execution_count": 3,
   "id": "6560bf42",
   "metadata": {},
   "outputs": [
    {
     "name": "stdout",
     "output_type": "stream",
     "text": [
      "Результат Xopt:\n",
      "0.0\n",
      "0.0\n",
      "0.0\n",
      "0.0\n",
      "0.0\n",
      "0.0\n",
      "0.0\n",
      "0.0\n",
      "30.0\n",
      "0.0\n",
      "0.0\n",
      "30.0\n",
      "30.0\n",
      "0.0\n",
      "0.0\n",
      "0.0\n",
      "0.0\n",
      "0.0\n",
      "0.0\n",
      "0.0\n",
      "10.0\n",
      "0.0\n",
      "0.0\n",
      "0.0\n",
      "40.0\n",
      "Стоимость доставки:\n",
      "440.0\n",
      "Время :\n",
      "0.7706105709075928\n"
     ]
    }
   ],
   "source": [
    "print(\"Результат Xopt:\")\n",
    "for i in x.value:\n",
    "         print(i)\n",
    "print(\"Стоимость доставки:\")\n",
    "print(problem.objective.value()[0])\n",
    "stop = time.time()\n",
    "print (\"Время :\")\n",
    "print(stop - start)"
   ]
  },
  {
   "cell_type": "code",
   "execution_count": null,
   "id": "6dc01f63",
   "metadata": {},
   "outputs": [],
   "source": []
  }
 ],
 "metadata": {
  "kernelspec": {
   "display_name": "Python 3 (ipykernel)",
   "language": "python",
   "name": "python3"
  },
  "language_info": {
   "codemirror_mode": {
    "name": "ipython",
    "version": 3
   },
   "file_extension": ".py",
   "mimetype": "text/x-python",
   "name": "python",
   "nbconvert_exporter": "python",
   "pygments_lexer": "ipython3",
   "version": "3.9.9"
  }
 },
 "nbformat": 4,
 "nbformat_minor": 5
}
